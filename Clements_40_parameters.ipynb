{
  "cells": [
    {
      "cell_type": "markdown",
      "metadata": {
        "id": "Nj4LCHwj9i7U"
      },
      "source": [
        "# Dataset Generation with Clements Physical Model"
      ]
    },
    {
      "cell_type": "code",
      "execution_count": null,
      "metadata": {
        "id": "CMd-8gqDiqk-"
      },
      "outputs": [],
      "source": [
        "import numpy as np"
      ]
    },
    {
      "cell_type": "code",
      "execution_count": null,
      "metadata": {
        "id": "TmaJ_c_LizAy"
      },
      "outputs": [],
      "source": [
        "'''\n",
        "unitary matrices of physical model\n",
        "'''\n",
        "def P_14_create(c_0, a, x):\n",
        "    c = c_0 + a @ x\n",
        "    P = np.eye(4, dtype='complex64')\n",
        "    P[0,0] = np.exp(1j*c[0])\n",
        "    P[3,3] = np.exp(1j*c[1])\n",
        "    return P\n",
        "\n",
        "def P_2_create(c_0, a, x):\n",
        "    c = c_0 + a * x\n",
        "    P = np.eye(4, dtype='complex64')\n",
        "    P[1,1] = np.exp(1j*c[0])\n",
        "    return P\n",
        "\n",
        "def P_3_create(c_0, a, x):\n",
        "    c = c_0 + a * x\n",
        "    P = np.eye(4, dtype='complex64')\n",
        "    P[2,2] = np.exp(1j*c[0])\n",
        "    return P\n",
        "\n",
        "def DC(R_3):\n",
        "    M = np.eye(2,dtype = 'complex64')\n",
        "    M[0,0] = np.sqrt(R_3)\n",
        "    M[0,1] = 1j*np.sqrt(1-R_3)\n",
        "    M[1,1] = np.sqrt(R_3)\n",
        "    M[1,0] = 1j*np.sqrt(1-R_3)\n",
        "    return M\n",
        "\n",
        "def U_1(R_1,R_2):\n",
        "    M = np.eye(4,dtype='complex64')\n",
        "    M[0:2,0:2] = DC(R_1)\n",
        "    M[2:4,2:4] = DC(R_2)\n",
        "    return M\n",
        "\n",
        "def U_2(R_1):\n",
        "    M = np.eye(4,dtype='complex64')\n",
        "    M[1:3,1:3] = DC(R_1)\n",
        "    return M\n"
      ]
    },
    {
      "cell_type": "code",
      "execution_count": null,
      "metadata": {
        "id": "PT8OHtPjzFqZ"
      },
      "outputs": [],
      "source": [
        "'''\n",
        "вспомогательная функция\n",
        "'''\n",
        "def interf1(I, x,\n",
        "      f_1 = np.array([0.1566, 0.0396]),\n",
        "f_2 = np.array([1.8388, 1.6334]),\n",
        "f_3 = np.array([-0.2045]),\n",
        "f_4 = np.array([-0.3984]),\n",
        "f_5 = np.array([-0.01254, 0.1149]),\n",
        "f_6 = np.array([-0.6691]),\n",
        "a_1 = np.array([[2.7874, -0.4287], [-0.4827, 2.7510]]),\n",
        "a_2 = np.array([[3.2306, -0.5611], [-0.6913, 3.1517]]),\n",
        "a_3 = np.array(2.8812),\n",
        "a_4 = np.array(3.2975),\n",
        "a_5 = np.array([[3.0654, -0.5357], [-0.5380, 3.0873]]),\n",
        "a_6 = np.array(3.3646),\n",
        "R = np.array([0.37425, 0.4123, 0.3755, 0.3122, 0.3296, 0.4110, 0.4421, 0.3978, 0.2827, 0.3705, 0.4543, 0.4806]),\n",
        "T_out = np.array([0.4701, 0.5567, 0.4799, 0.5566])):\n",
        "    I_in = np.asarray(I)\n",
        "    I_normed = I_in/np.sum(I_in)\n",
        "    a_in = np.sqrt(I_normed, dtype = 'complex64')\n",
        "    alpha_1 = a_1*1e-6\n",
        "    alpha_2 = a_2*1e-6\n",
        "    alpha_3 = a_3*1e-6\n",
        "    alpha_4 = a_4*1e-6\n",
        "    alpha_5 = a_5*1e-6\n",
        "    alpha_6 = a_6*1e-6\n",
        "    x_amperage = np.asarray(x)**2\n",
        "    P1 = P_14_create(f_1, alpha_1, x_amperage[0:2])\n",
        "    P2 = P_14_create(f_2, alpha_2, x_amperage[2:4])\n",
        "    P3 = P_2_create(f_3, alpha_3, x_amperage[4])\n",
        "    P4 = P_3_create(f_4, alpha_4, x_amperage[5])\n",
        "    P5 = P_14_create(f_5, alpha_5, x_amperage[6:8])\n",
        "    P6 = P_2_create(f_6, alpha_6, x_amperage[8])\n",
        "    M1, M2, M3, M4, M5, M6, M7, M8 = U_1(R[0],R[1]), U_1(R[2],R[3]), U_2(R[4]), U_2(R[5]),\\\n",
        "                                 U_1(R[6],R[7]), U_1(R[8],R[9]), U_2(R[10]), U_2(R[11])\n",
        "    U = M8@P6@M7@M6@P5@M5@P4@M4@P3@M3@P2@M2@P1@M1\n",
        "    a_out = U @ a_in\n",
        "    a_dec = np.abs(a_out)**2\n",
        "    a_dec_new = a_dec * T_out\n",
        "    return a_dec_new/np.sum(a_dec_new)"
      ]
    },
    {
      "cell_type": "code",
      "execution_count": null,
      "metadata": {
        "id": "c9mpW2NN6txN"
      },
      "outputs": [],
      "source": [
        "'''\n",
        "вспомогательная функция\n",
        "'''\n",
        "def interf(I, x, params):\n",
        "    f_1 = params[0:2]\n",
        "    f_2 = params[2:4]\n",
        "    f_3 = params[4:5]\n",
        "    f_4 = params[5:6]\n",
        "    f_5 = params[6:8]\n",
        "    f_6 = params[8:9]\n",
        "\n",
        "    a_1 = params[9:13].reshape(2, 2)\n",
        "    a_2 = params[13:17].reshape(2, 2)\n",
        "    a_3 = params[17]\n",
        "    a_4 = params[18]\n",
        "    a_5 = params[19:23].reshape(2, 2)\n",
        "    a_6 = params[23]\n",
        "\n",
        "    R = params[24:36]\n",
        "    T_out = params[36:40]\n",
        "    I_in = np.asarray(I)\n",
        "    I_normed = I_in / np.sum(I_in)\n",
        "    a_in = np.sqrt(I_normed, dtype='complex64')\n",
        "    alpha_1 = a_1 * 1e-6\n",
        "    alpha_2 = a_2 * 1e-6\n",
        "    alpha_3 = a_3 * 1e-6\n",
        "    alpha_4 = a_4 * 1e-6\n",
        "    alpha_5 = a_5 * 1e-6\n",
        "    alpha_6 = a_6 * 1e-6\n",
        "\n",
        "    x_amperage = np.asarray(x)**2\n",
        "\n",
        "    P1 = P_14_create(f_1, alpha_1, x_amperage[0:2])\n",
        "    P2 = P_14_create(f_2, alpha_2, x_amperage[2:4])\n",
        "    P3 = P_2_create(f_3, alpha_3, x_amperage[4])\n",
        "    P4 = P_3_create(f_4, alpha_4, x_amperage[5])\n",
        "    P5 = P_14_create(f_5, alpha_5, x_amperage[6:8])\n",
        "    P6 = P_2_create(f_6, alpha_6, x_amperage[8])\n",
        "\n",
        "    M1, M2, M3, M4, M5, M6, M7, M8 = (\n",
        "        U_1(R[0], R[1]), U_1(R[2], R[3]), U_2(R[4]), U_2(R[5]),\n",
        "        U_1(R[6], R[7]), U_1(R[8], R[9]), U_2(R[10]), U_2(R[11])\n",
        "    )\n",
        "\n",
        "    U = M8 @ P6 @ M7 @ M6 @ P5 @ M5 @ P4 @ M4 @ P3 @ M3 @ P2 @ M2 @ P1 @ M1\n",
        "    a_out = U @ a_in\n",
        "    a_dec = np.abs(a_out)**2\n",
        "    a_dec_new = a_dec * T_out\n",
        "    return a_dec_new / np.sum(a_dec_new)"
      ]
    },
    {
      "cell_type": "code",
      "source": [
        "'''\n",
        "вспомогательная функция\n",
        "'''\n",
        "def interf_inv(I, x, params):\n",
        "    f_1 = params[0:2]\n",
        "    f_2 = params[2:4]\n",
        "    f_3 = params[4:5]\n",
        "    f_4 = params[5:6]\n",
        "    f_5 = params[6:8]\n",
        "    f_6 = params[8:9]\n",
        "\n",
        "    a_1 = params[9:13].reshape(2, 2)\n",
        "    a_2 = params[13:17].reshape(2, 2)\n",
        "    a_3 = params[17]\n",
        "    a_4 = params[18]\n",
        "    a_5 = params[19:23].reshape(2, 2)\n",
        "    a_6 = params[23]\n",
        "\n",
        "    R = params[24:36]\n",
        "    T_out = params[36:40]\n",
        "    I_in = np.asarray(I)\n",
        "    I_normed = I_in / np.sum(I_in)\n",
        "    a_in = np.sqrt(I_normed, dtype='complex64')\n",
        "    alpha_1 = a_1 * 1e-6\n",
        "    alpha_2 = a_2 * 1e-6\n",
        "    alpha_3 = a_3 * 1e-6\n",
        "    alpha_4 = a_4 * 1e-6\n",
        "    alpha_5 = a_5 * 1e-6\n",
        "    alpha_6 = a_6 * 1e-6\n",
        "\n",
        "    x_amperage = np.asarray(x)**2\n",
        "\n",
        "    P1 = P_14_create(f_1, alpha_1, x_amperage[0:2])\n",
        "    P2 = P_14_create(f_2, alpha_2, x_amperage[2:4])\n",
        "    P3 = P_2_create(f_3, alpha_3, x_amperage[4])\n",
        "    P4 = P_3_create(f_4, alpha_4, x_amperage[5])\n",
        "    P5 = P_14_create(f_5, alpha_5, x_amperage[6:8])\n",
        "    P6 = P_2_create(f_6, alpha_6, x_amperage[8])\n",
        "\n",
        "    M1, M2, M3, M4, M5, M6, M7, M8 = (\n",
        "        U_1(R[0], R[1]), U_1(R[2], R[3]), U_2(R[4]), U_2(R[5]),\n",
        "        U_1(R[6], R[7]), U_1(R[8], R[9]), U_2(R[10]), U_2(R[11])\n",
        "    )\n",
        "\n",
        "    U = M8 @ P6 @ M7 @ M6 @ P5 @ M5 @ P4 @ M4 @ P3 @ M3 @ P2 @ M2 @ P1 @ M1\n",
        "    a_out = U @ a_in\n",
        "    a_dec = np.abs(a_out)**2\n",
        "    a_dec_new = a_dec * T_out\n",
        "    return np.sqrt(a_dec_new / np.sum(a_dec_new))"
      ],
      "metadata": {
        "id": "Pap_jNHlKsOQ"
      },
      "execution_count": null,
      "outputs": []
    },
    {
      "cell_type": "code",
      "execution_count": null,
      "metadata": {
        "id": "TfQBnSMg7TcD"
      },
      "outputs": [],
      "source": [
        "'''\n",
        "параметры реального чипа\n",
        "'''\n",
        "params = np.concatenate([\n",
        "    np.array([0.1566, 0.0396]), # f_1\n",
        "    np.array([1.8388, 1.6334]), # f_2\n",
        "    np.array([-0.2045]),        # f_3\n",
        "    np.array([-0.3984]),        # f_4\n",
        "    np.array([-0.01254, 0.1149]), # f_5\n",
        "    np.array([-0.6691]),        # f_6\n",
        "    np.array([[2.7874, -0.4287], [-0.4827, 2.7510]]).flatten(), # a_1\n",
        "    np.array([[3.2306, -0.5611], [-0.6913, 3.1517]]).flatten(), # a_2\n",
        "    np.array([2.8812]),         # a_3\n",
        "    np.array([3.2975]),         # a_4\n",
        "    np.array([[3.0654, -0.5357], [-0.5380, 3.0873]]).flatten(), # a_5\n",
        "    np.array([3.3646]),         # a_6\n",
        "    np.array([0.37425, 0.4123, 0.3755, 0.3122, 0.3296, 0.4110, 0.4421, 0.3978, 0.2827, 0.3705, 0.4543, 0.4806]), # R\n",
        "    np.array([0.4701, 0.5567, 0.4799, 0.5566]) # T_out\n",
        "])"
      ]
    },
    {
      "cell_type": "code",
      "execution_count": null,
      "metadata": {
        "id": "RqHgOUjiBDZY"
      },
      "outputs": [],
      "source": [
        "def create_params_set(num_samples=500, seed=None):\n",
        "    if seed is not None:\n",
        "        np.random.seed(seed)\n",
        "    params_set = []\n",
        "    for _ in range(num_samples):\n",
        "        # Генерация случайных значений для фаз в пределах [0, 2π]\n",
        "        f_1 = np.random.uniform(0, 2*np.pi, size=2)\n",
        "        f_2 = np.random.uniform(0, 2*np.pi, size=2)\n",
        "        f_3 = np.random.uniform(0, 2*np.pi, size=1)\n",
        "        f_4 = np.random.uniform(0, 2*np.pi, size=1)\n",
        "        f_5 = np.random.uniform(0, 2*np.pi, size=2)\n",
        "        f_6 = np.random.uniform(0, 2*np.pi, size=1)\n",
        "\n",
        "        # Генерация значений для R с нормальным распределением\n",
        "        R_mean = 0.5\n",
        "        R_std = 0.2\n",
        "        R = np.clip(np.random.normal(R_mean, R_std, size=12), 0.05, 0.95)\n",
        "\n",
        "        # Генерация значений для T_out со средним 1 и небольшой дисперсией\n",
        "        T_out_mean = 1.0\n",
        "        T_out_std = 0.1\n",
        "        T_out = np.random.normal(T_out_mean, T_out_std, size=4)\n",
        "\n",
        "        # Генерация значений для alpha\n",
        "        original_means = {\n",
        "            'a_1': np.array([[2.7874, -0.4287], [-0.4827, 2.7510]]),\n",
        "            'a_2': np.array([[3.2306, -0.5611], [-0.6913, 3.1517]]),\n",
        "            'a_3': np.array([2.8812]),\n",
        "            'a_4': np.array([3.2975]),\n",
        "            'a_5': np.array([[3.0654, -0.5357], [-0.5380, 3.0873]]),\n",
        "            'a_6': np.array([3.3646]),\n",
        "        }\n",
        "        alpha_std = 0.1  # Стандартное отклонение для alpha\n",
        "        a_1 = np.random.normal(original_means['a_1'], alpha_std)\n",
        "        a_2 = np.random.normal(original_means['a_2'], alpha_std)\n",
        "        a_3 = np.random.normal(original_means['a_3'], alpha_std)\n",
        "        a_4 = np.random.normal(original_means['a_4'], alpha_std)\n",
        "        a_5 = np.random.normal(original_means['a_5'], alpha_std)\n",
        "        a_6 = np.random.normal(original_means['a_6'], alpha_std)\n",
        "\n",
        "        # Собираем все параметры в один вектор\n",
        "        params = np.concatenate([\n",
        "            f_1, f_2, f_3, f_4, f_5, f_6,\n",
        "            a_1.flatten(), a_2.flatten(), a_3, a_4, a_5.flatten(), a_6,\n",
        "            R, T_out\n",
        "        ])\n",
        "\n",
        "        params_set.append(params)\n",
        "\n",
        "    return np.array(params_set)"
      ]
    },
    {
      "cell_type": "code",
      "execution_count": null,
      "metadata": {
        "colab": {
          "base_uri": "https://localhost:8080/"
        },
        "id": "3ZXydGqJBi2F",
        "outputId": "09b273d5-c515-44b0-86dc-8560bd77e2eb"
      },
      "outputs": [
        {
          "output_type": "stream",
          "name": "stdout",
          "text": [
            "[ 0.1566   0.0396   1.8388   1.6334  -0.2045  -0.3984  -0.01254  0.1149\n",
            " -0.6691   2.7874  -0.4287  -0.4827   2.751    3.2306  -0.5611  -0.6913\n",
            "  3.1517   2.8812   3.2975   3.0654  -0.5357  -0.538    3.0873   3.3646\n",
            "  0.37425  0.4123   0.3755   0.3122   0.3296   0.411    0.4421   0.3978\n",
            "  0.2827   0.3705   0.4543   0.4806   0.4701   0.5567   0.4799   0.5566 ]\n",
            "[ 5.66090426  6.25904326  5.18623957  5.30848324  1.56456803  3.62352804\n",
            "  0.42258137  0.59638699  6.27622738  2.88407605 -0.39564266 -0.31930518\n",
            "  2.92647755  3.40747718 -0.61031435 -0.82670184  3.09638078  2.95156416\n",
            "  3.31341589  3.0447519  -0.47965186 -0.68508051  3.10141693  3.47644576\n",
            "  0.73227976  0.33774858  0.57372017  0.56314505  0.48053264  0.39924208\n",
            "  0.74295941  0.38048627  0.13759222  0.62810672  0.25973933  0.63837623\n",
            "  1.13349032  1.06297499  1.10714113  1.20200491]\n"
          ]
        }
      ],
      "source": [
        "params_set = create_params_set(seed=42)\n",
        "\n",
        "# Вывод первого созданного набора параметров для проверки\n",
        "print(params)\n",
        "print(params_set[70])"
      ]
    },
    {
      "cell_type": "code",
      "execution_count": null,
      "metadata": {
        "colab": {
          "base_uri": "https://localhost:8080/"
        },
        "id": "MfWNP-mV7hfu",
        "outputId": "359d91e6-3c86-4c58-d866-7aefbd7f4d54"
      },
      "outputs": [
        {
          "output_type": "stream",
          "name": "stdout",
          "text": [
            "[[1126 1459  860 ... 1044 1638  121]\n",
            " [ 466 1238  330 ... 1123  871  130]\n",
            " [1332  769  343 ...  385 1215  955]\n",
            " ...\n",
            " [1413 1283  619 ...  124 1377 1296]\n",
            " [ 618  244  847 ...  519 1164  361]\n",
            " [   7  477 1375 ... 1450 1062  592]]\n"
          ]
        }
      ],
      "source": [
        "num_vectors = 500\n",
        "vector_length = 9\n",
        "min_value = 0\n",
        "max_value = 1650\n",
        "seed = 42\n",
        "np.random.seed(seed)\n",
        "currents = np.random.randint(min_value, max_value + 1, size=(num_vectors, vector_length))\n",
        "print(currents)"
      ]
    },
    {
      "cell_type": "code",
      "execution_count": null,
      "metadata": {
        "id": "CisGwuvqHEF8"
      },
      "outputs": [],
      "source": [
        "'''\n",
        "Генерация датасета\n",
        "\n",
        "X: 16 элементов передаточной матрицы интерферометра, 9 токов на чипе\n",
        "Y: 40 физических параметров отдельного чипа\n",
        "'''\n",
        "data = []\n",
        "for el in currents:\n",
        "    for par in params_set:\n",
        "        vector = np.empty((0,))\n",
        "        for i in range(4):\n",
        "            st = interf(np.eye(4)[i], np.array(el), par)\n",
        "            vector = np.concatenate((vector, st))\n",
        "        data.append([[vector, el], par])"
      ]
    },
    {
      "cell_type": "code",
      "source": [
        "data[-1]"
      ],
      "metadata": {
        "colab": {
          "base_uri": "https://localhost:8080/"
        },
        "id": "kH_F-aBqQTyr",
        "outputId": "d3358359-a1b2-4126-dd30-16deffa9e655"
      },
      "execution_count": null,
      "outputs": [
        {
          "output_type": "execute_result",
          "data": {
            "text/plain": [
              "[[array([0.33251468, 0.30273374, 0.12334576, 0.24140582, 0.05981886,\n",
              "         0.03034473, 0.84240055, 0.06743586, 0.1517107 , 0.42362038,\n",
              "         0.06636107, 0.35830785, 0.45418239, 0.18170399, 0.00668738,\n",
              "         0.35742625]),\n",
              "  array([   7,  477, 1375,  494, 1629,  832, 1450, 1062,  592])],\n",
              " array([ 5.49426093,  4.55567063,  1.56798392,  5.58214608,  3.60178989,\n",
              "         3.80999463,  1.06174126,  5.38955046,  5.84942633,  2.83094157,\n",
              "        -0.60119854, -0.72512649,  2.60724542,  3.18254566, -0.5034644 ,\n",
              "        -0.92552469,  3.31098521,  2.8982566 ,  3.4335295 ,  2.97680299,\n",
              "        -0.48531401, -0.52948041,  3.16906863,  3.34122086,  0.86460825,\n",
              "         0.65466834,  0.4153245 ,  0.24819945,  0.4916785 ,  0.74562306,\n",
              "         0.72518607,  0.41431431,  0.24338291,  0.41376406,  0.40630447,\n",
              "         0.58928936,  0.98949985,  0.92467358,  1.11042631,  1.01404259])]"
            ]
          },
          "metadata": {},
          "execution_count": 14
        }
      ]
    },
    {
      "cell_type": "markdown",
      "metadata": {
        "id": "Vu2r2p1kM_dJ"
      },
      "source": [
        "# Data Loader"
      ]
    },
    {
      "cell_type": "code",
      "execution_count": null,
      "metadata": {
        "id": "6vIALxyhNkBC",
        "colab": {
          "base_uri": "https://localhost:8080/"
        },
        "outputId": "663b9821-6662-441e-88b3-652a1a3a7c09"
      },
      "outputs": [
        {
          "output_type": "stream",
          "name": "stdout",
          "text": [
            "\u001b[2K   \u001b[90m━━━━━━━━━━━━━━━━━━━━━━━━━━━━━━━━━━━━━━━━\u001b[0m \u001b[32m818.9/818.9 kB\u001b[0m \u001b[31m22.7 MB/s\u001b[0m eta \u001b[36m0:00:00\u001b[0m\n",
            "\u001b[2K   \u001b[90m━━━━━━━━━━━━━━━━━━━━━━━━━━━━━━━━━━━━━━━━\u001b[0m \u001b[32m363.4/363.4 MB\u001b[0m \u001b[31m4.3 MB/s\u001b[0m eta \u001b[36m0:00:00\u001b[0m\n",
            "\u001b[2K   \u001b[90m━━━━━━━━━━━━━━━━━━━━━━━━━━━━━━━━━━━━━━━━\u001b[0m \u001b[32m13.8/13.8 MB\u001b[0m \u001b[31m108.8 MB/s\u001b[0m eta \u001b[36m0:00:00\u001b[0m\n",
            "\u001b[2K   \u001b[90m━━━━━━━━━━━━━━━━━━━━━━━━━━━━━━━━━━━━━━━━\u001b[0m \u001b[32m24.6/24.6 MB\u001b[0m \u001b[31m84.4 MB/s\u001b[0m eta \u001b[36m0:00:00\u001b[0m\n",
            "\u001b[2K   \u001b[90m━━━━━━━━━━━━━━━━━━━━━━━━━━━━━━━━━━━━━━━━\u001b[0m \u001b[32m883.7/883.7 kB\u001b[0m \u001b[31m51.1 MB/s\u001b[0m eta \u001b[36m0:00:00\u001b[0m\n",
            "\u001b[2K   \u001b[90m━━━━━━━━━━━━━━━━━━━━━━━━━━━━━━━━━━━━━━━━\u001b[0m \u001b[32m664.8/664.8 MB\u001b[0m \u001b[31m2.4 MB/s\u001b[0m eta \u001b[36m0:00:00\u001b[0m\n",
            "\u001b[2K   \u001b[90m━━━━━━━━━━━━━━━━━━━━━━━━━━━━━━━━━━━━━━━━\u001b[0m \u001b[32m211.5/211.5 MB\u001b[0m \u001b[31m5.7 MB/s\u001b[0m eta \u001b[36m0:00:00\u001b[0m\n",
            "\u001b[2K   \u001b[90m━━━━━━━━━━━━━━━━━━━━━━━━━━━━━━━━━━━━━━━━\u001b[0m \u001b[32m56.3/56.3 MB\u001b[0m \u001b[31m16.2 MB/s\u001b[0m eta \u001b[36m0:00:00\u001b[0m\n",
            "\u001b[2K   \u001b[90m━━━━━━━━━━━━━━━━━━━━━━━━━━━━━━━━━━━━━━━━\u001b[0m \u001b[32m127.9/127.9 MB\u001b[0m \u001b[31m6.7 MB/s\u001b[0m eta \u001b[36m0:00:00\u001b[0m\n",
            "\u001b[2K   \u001b[90m━━━━━━━━━━━━━━━━━━━━━━━━━━━━━━━━━━━━━━━━\u001b[0m \u001b[32m207.5/207.5 MB\u001b[0m \u001b[31m5.6 MB/s\u001b[0m eta \u001b[36m0:00:00\u001b[0m\n",
            "\u001b[2K   \u001b[90m━━━━━━━━━━━━━━━━━━━━━━━━━━━━━━━━━━━━━━━━\u001b[0m \u001b[32m21.1/21.1 MB\u001b[0m \u001b[31m53.7 MB/s\u001b[0m eta \u001b[36m0:00:00\u001b[0m\n",
            "\u001b[2K   \u001b[90m━━━━━━━━━━━━━━━━━━━━━━━━━━━━━━━━━━━━━━━━\u001b[0m \u001b[32m961.5/961.5 kB\u001b[0m \u001b[31m48.7 MB/s\u001b[0m eta \u001b[36m0:00:00\u001b[0m\n",
            "\u001b[2K   \u001b[90m━━━━━━━━━━━━━━━━━━━━━━━━━━━━━━━━━━━━━━━━\u001b[0m \u001b[32m823.0/823.0 kB\u001b[0m \u001b[31m49.7 MB/s\u001b[0m eta \u001b[36m0:00:00\u001b[0m\n",
            "\u001b[?25h"
          ]
        }
      ],
      "source": [
        "!pip install -q lightning tbparse"
      ]
    },
    {
      "cell_type": "code",
      "execution_count": null,
      "metadata": {
        "colab": {
          "base_uri": "https://localhost:8080/"
        },
        "id": "zCbr7jCtNnzk",
        "outputId": "8be8bb9e-7a70-4559-c89f-fbadb741f7c2"
      },
      "outputs": [
        {
          "output_type": "stream",
          "name": "stderr",
          "text": [
            "INFO: Seed set to 42\n",
            "INFO:lightning.fabric.utilities.seed:Seed set to 42\n"
          ]
        },
        {
          "output_type": "execute_result",
          "data": {
            "text/plain": [
              "42"
            ]
          },
          "metadata": {},
          "execution_count": 16
        }
      ],
      "source": [
        "import random\n",
        "import lightning as L\n",
        "import torch\n",
        "import torch.nn as nn\n",
        "def set_random_seed(seed):\n",
        "    torch.manual_seed(seed)\n",
        "    torch.cuda.manual_seed(seed)\n",
        "    np.random.seed(seed)\n",
        "    random.seed(seed)\n",
        "set_random_seed(42)\n",
        "L.seed_everything(42)"
      ]
    },
    {
      "cell_type": "code",
      "execution_count": null,
      "metadata": {
        "id": "TKl-R7aJNI5q"
      },
      "outputs": [],
      "source": [
        "import matplotlib.pyplot as plt\n",
        "import time\n",
        "import math as ma\n",
        "import cmath as cm\n",
        "from sklearn.model_selection import train_test_split"
      ]
    },
    {
      "cell_type": "code",
      "execution_count": null,
      "metadata": {
        "id": "53ctRkrhNW7G"
      },
      "outputs": [],
      "source": [
        "\n",
        "import lightning as L\n",
        "from tqdm.notebook import tqdm\n",
        "from lightning.pytorch import Trainer\n",
        "from lightning.pytorch.callbacks import ModelCheckpoint\n",
        "from lightning.pytorch.loggers import TensorBoardLogger\n",
        "from torch.utils.data import Dataset, DataLoader"
      ]
    },
    {
      "cell_type": "code",
      "execution_count": null,
      "metadata": {
        "id": "eWZYMZ33bgag"
      },
      "outputs": [],
      "source": [
        "class NormalizeTransform:\n",
        "    def __init__(self, mean, std):\n",
        "        self.mean = mean\n",
        "        self.std = std\n",
        "\n",
        "    def __call__(self, data):\n",
        "        return (data - self.mean) / self.std\n",
        "\n",
        "class DenormalizeTransform:\n",
        "    def __init__(self, mean, std):\n",
        "        self.mean = mean\n",
        "        self.std = std\n",
        "\n",
        "    def __call__(self, norm_data):\n",
        "        return norm_data * self.std + self.mean\n",
        "\n",
        "class MinMaxNormalizeTransform:\n",
        "    def __init__(self, min_val, max_val):\n",
        "        self.min_val = min_val\n",
        "        self.max_val = max_val\n",
        "\n",
        "    def __call__(self, data):\n",
        "        return (data - self.min_val) / (self.max_val - self.min_val)\n",
        "\n",
        "class MinMaxDenormalizeTransform:\n",
        "    def __init__(self, min_val, max_val):\n",
        "        self.min_val = min_val\n",
        "        self.max_val = max_val\n",
        "\n",
        "    def __call__(self, norm_data):\n",
        "        return norm_data * (self.max_val - self.min_val) + self.min_val\n",
        "\n",
        "\n",
        "class CustomDataset(Dataset):\n",
        "    def __init__(self, data, transform_pars=None, transform_curs=None, tandem = False):\n",
        "        self.data = data\n",
        "        self.transform_pars = transform_pars\n",
        "        self.transform_curs = transform_curs\n",
        "        self.tandem = tandem\n",
        "\n",
        "    def __len__(self):\n",
        "        return len(self.data)\n",
        "\n",
        "    def __getitem__(self, idx):\n",
        "        (pars, curs), target = self.data[idx]\n",
        "        pars_tensor = torch.tensor(pars, dtype=torch.float32)\n",
        "        curs_tensor = torch.tensor(curs, dtype=torch.float32)\n",
        "        target_tensor = torch.tensor(target, dtype=torch.float32)\n",
        "        if self.transform_curs:\n",
        "            curs_tensor = self.transform_curs(curs_tensor)\n",
        "        if self.transform_pars:\n",
        "            pars_tensor = self.transform_pars(pars_tensor)\n",
        "        if self.tandem == True:\n",
        "            combined_target = self.transform_pars(target_tensor)\n",
        "        else:\n",
        "            combined_target = torch.cat((target_tensor, curs_tensor), dim=0)\n",
        "        combined_input = torch.cat((pars_tensor, curs_tensor), dim=0)\n",
        "        return combined_input, combined_target\n",
        "\n",
        "class CustomDataset_inv(Dataset):\n",
        "    def __init__(self, data, transform_pars=None, transform_curs=None):\n",
        "        self.data = data\n",
        "        self.transform_pars = transform_pars\n",
        "        self.transform_curs = transform_curs\n",
        "\n",
        "    def __len__(self):\n",
        "        return len(self.data)\n",
        "\n",
        "    def __getitem__(self, idx):\n",
        "        (target, curs),  pars = self.data[idx]\n",
        "        pars_tensor = torch.tensor(pars, dtype=torch.float32)\n",
        "        curs_tensor = torch.tensor(curs, dtype=torch.float32)\n",
        "        target_tensor = torch.tensor(target, dtype=torch.float32)\n",
        "        if self.transform_curs:\n",
        "            curs_tensor = self.transform_curs(curs_tensor)\n",
        "        if self.transform_pars:\n",
        "            pars_tensor = self.transform_pars(pars_tensor)\n",
        "        combined_input = torch.cat((target_tensor, curs_tensor), dim=0)\n",
        "        return combined_input, pars_tensor"
      ]
    },
    {
      "cell_type": "code",
      "execution_count": null,
      "metadata": {
        "id": "aVy36rnvF76c"
      },
      "outputs": [],
      "source": [
        "train_data, temp_data = train_test_split(data, test_size=0.2, random_state=42)\n",
        "val_data, test_data = train_test_split(temp_data, test_size=0.5, random_state=42)"
      ]
    },
    {
      "cell_type": "code",
      "execution_count": null,
      "metadata": {
        "id": "5t4VZJgPfZL8"
      },
      "outputs": [],
      "source": [
        "control_params_list = []\n",
        "pars_list = []\n",
        "for (_, control_params), pars in train_data:\n",
        "    control_params_list.append(control_params)\n",
        "    pars_list.append(pars)\n",
        "\n",
        "control_params_array = np.array(control_params_list)\n",
        "mean_control_params = control_params_array.mean(axis=0)\n",
        "std_control_params = control_params_array.std(axis=0)\n",
        "\n",
        "pars_array = np.array(pars_list)\n",
        "mean_pars = pars_array.mean(axis=0)\n",
        "std_pars = pars_array.std(axis=0)"
      ]
    },
    {
      "cell_type": "code",
      "source": [
        "control_params_list = []\n",
        "pars_list = []\n",
        "for (_, control_params), pars in train_data:\n",
        "    control_params_list.append(control_params)\n",
        "    pars_list.append(pars)\n",
        "\n",
        "control_params_array = np.array(control_params_list)\n",
        "min_control_params = control_params_array.min(axis=0)\n",
        "max_control_params = control_params_array.max(axis=0)\n",
        "\n",
        "pars_array = np.array(pars_list)\n",
        "min_pars = pars_array.min(axis=0)\n",
        "max_pars = pars_array.max(axis=0)"
      ],
      "metadata": {
        "id": "5xc0dxFNXh-p"
      },
      "execution_count": null,
      "outputs": []
    },
    {
      "cell_type": "code",
      "source": [
        "normalize_transform_params = MinMaxNormalizeTransform(min_pars, max_pars)\n",
        "normalize_transform_curs = MinMaxNormalizeTransform(min_control_params, max_control_params)"
      ],
      "metadata": {
        "id": "UTfIo_soY5uW"
      },
      "execution_count": null,
      "outputs": []
    },
    {
      "cell_type": "code",
      "source": [
        "batch_size = 150\n",
        "train_loader = DataLoader(CustomDataset_inv(train_data, normalize_transform_params, normalize_transform_curs), batch_size=batch_size, shuffle=True)\n",
        "val_loader = DataLoader(CustomDataset_inv(val_data,normalize_transform_params, normalize_transform_curs), batch_size=batch_size, shuffle=False)\n",
        "test_loader = DataLoader(CustomDataset_inv(test_data,normalize_transform_params, normalize_transform_curs), batch_size=batch_size, shuffle=False)"
      ],
      "metadata": {
        "id": "GX65iCnmRhou"
      },
      "execution_count": null,
      "outputs": []
    },
    {
      "cell_type": "code",
      "execution_count": null,
      "metadata": {
        "id": "kbzqReJSsIgz"
      },
      "outputs": [],
      "source": [
        "denormalizer = MinMaxDenormalizeTransform(min_pars, max_pars)"
      ]
    },
    {
      "cell_type": "markdown",
      "metadata": {
        "id": "5txLv8Nltqfb"
      },
      "source": [
        "# Нейронная сеть\n"
      ]
    },
    {
      "cell_type": "code",
      "execution_count": null,
      "metadata": {
        "id": "lOyKX52yrpAP"
      },
      "outputs": [],
      "source": [
        "import torch.nn.functional as F"
      ]
    },
    {
      "cell_type": "code",
      "execution_count": null,
      "metadata": {
        "id": "oiETwiSMzSJM"
      },
      "outputs": [],
      "source": [
        "class TransformerOpticalCircuit_Upg(nn.Module):\n",
        "    def __init__(self, input_size=16, control_size=9, output_size=40, dim_model=256, num_heads=8, num_layers=2, dropout=0.1):\n",
        "        super(TransformerOpticalCircuit_Upg, self).__init__()\n",
        "        self.input_embedding = nn.Linear(input_size + control_size, dim_model)\n",
        "        self.positional_encoding = nn.Dropout(p=dropout)\n",
        "        transformer_encoder_layer = nn.TransformerEncoderLayer(d_model=dim_model, nhead=num_heads, dropout=dropout, batch_first=True)\n",
        "        self.transformer_encoder = nn.TransformerEncoder(transformer_encoder_layer, num_layers=num_layers)\n",
        "        self.fc_out = nn.Linear(dim_model, output_size)\n",
        "\n",
        "    def forward(self, input_combined):\n",
        "        input_combined = input_combined.float()\n",
        "        input_embedded = self.input_embedding(input_combined)\n",
        "        input_embedded = self.positional_encoding(input_embedded)\n",
        "        transformer_out = self.transformer_encoder(input_embedded)\n",
        "        output = self.fc_out(transformer_out.squeeze(1))\n",
        "        output = torch.sigmoid(output)\n",
        "        return output\n"
      ]
    },
    {
      "cell_type": "markdown",
      "metadata": {
        "id": "UgjOVuSn0dIw"
      },
      "source": [
        "# Обучение"
      ]
    },
    {
      "cell_type": "code",
      "source": [
        "%load_ext tensorboard\n",
        "%tensorboard --logdir logs/model6 --port 6016"
      ],
      "metadata": {
        "id": "sX_nyTivyfGT"
      },
      "execution_count": null,
      "outputs": []
    },
    {
      "cell_type": "code",
      "execution_count": null,
      "metadata": {
        "id": "2au9p6DXIlSb"
      },
      "outputs": [],
      "source": [
        "\n",
        "from torchmetrics import MetricCollection\n",
        "from torchmetrics.regression import MeanSquaredError"
      ]
    },
    {
      "cell_type": "code",
      "source": [
        "def h_product(x, y):\n",
        "    '''Needed for fidelity calculation\n",
        "    x and y - np.arrays\n",
        "    '''\n",
        "    xH = x.transpose()\n",
        "    C = xH @ y\n",
        "    return np.trace(C)\n",
        "\n",
        "def batch_fidelity(X, Y):\n",
        "    \"\"\"Calculate average fidelity for batches of arrays X and Y (both np.arrays).\"\"\"\n",
        "    fids = []\n",
        "    for i in range(X.shape[0]):\n",
        "        x = X[i]\n",
        "        y = Y[i]\n",
        "        fid = (h_product(x, y))/4\n",
        "        fids.append(fid)\n",
        "    return np.round(np.mean(fids), 4)"
      ],
      "metadata": {
        "id": "m8pa-GtuJ-j7"
      },
      "execution_count": null,
      "outputs": []
    },
    {
      "cell_type": "code",
      "execution_count": null,
      "metadata": {
        "id": "Zo9149atjeLL"
      },
      "outputs": [],
      "source": [
        "class LModel_inv(L.LightningModule):\n",
        "    def __init__(self, model, lr=0.001, gamma=0.9):\n",
        "        super().__init__()\n",
        "        self.save_hyperparameters(logger=False)\n",
        "        self.lr = lr\n",
        "        self.gamma = gamma\n",
        "        self.model = model\n",
        "        self.criterion = nn.MSELoss()\n",
        "\n",
        "    def configure_optimizers(self):\n",
        "        optimizer = torch.optim.AdamW(\n",
        "            self.parameters(),\n",
        "            lr=self.lr,\n",
        "        )\n",
        "        # scheduler = torch.optim.lr_scheduler.ReduceLROnPlateau(\n",
        "        #     optimizer,\n",
        "        # )\n",
        "        return {\n",
        "            \"optimizer\": optimizer,\n",
        "            # \"lr_scheduler\": {\n",
        "            #     \"scheduler\": scheduler,\n",
        "            #     \"interval\": \"epoch\",\n",
        "            #     \"monitor\": \"loss/val\"\n",
        "            # },\n",
        "        }\n",
        "\n",
        "    def training_step(self, batch, batch_idx):\n",
        "        inp, y = batch\n",
        "        inp, y = inp.float(), y.float()\n",
        "        out = self.model(inp)\n",
        "        loss = self.criterion(out, y)\n",
        "        self.log(\"loss/train\", loss, prog_bar=True)\n",
        "        return loss\n",
        "\n",
        "\n",
        "    def validation_step(self, batch, batch_idx):\n",
        "        inp, y = batch\n",
        "        out = self.model(inp)\n",
        "        loss = self.criterion(out, y)\n",
        "        self.log(\"loss/val\", loss, prog_bar=True)\n",
        "        batch_size = inp.size(0)\n",
        "        out = out.detach().cpu().numpy()\n",
        "        I_vectors = np.eye(4)\n",
        "        # x_zeros = np.zeros(9)\n",
        "        x_zeros = np.array([600.]*9)\n",
        "        pred_matrices = []\n",
        "        target_matrices = []\n",
        "        for i in range(batch_size):\n",
        "               pred_params = denormalizer(out[i])\n",
        "               target_params = denormalizer(y[i].detach().cpu().numpy())\n",
        "               pred_matrix = np.stack([interf_inv(I, x_zeros, pred_params) for I in I_vectors], axis=0)\n",
        "               target_matrix = np.stack([interf_inv(I, x_zeros, target_params) for I in I_vectors], axis=0)\n",
        "               pred_matrices.append(pred_matrix)\n",
        "               target_matrices.append(target_matrix)\n",
        "        pred_matrices = np.array(pred_matrices).reshape(batch_size, -1, 4)\n",
        "        target_matrices = np.array(target_matrices).reshape(batch_size, -1, 4)\n",
        "        fidelity = batch_fidelity(pred_matrices, target_matrices)\n",
        "        self.log('val/fidelity', fidelity)\n",
        "\n",
        "    def test_step(self, batch, batch_idx):\n",
        "        inp, y = batch\n",
        "        out = self.model(inp)\n",
        "        loss = self.criterion(out, y)\n",
        "        self.log(\"loss/test\", loss, prog_bar=True)\n",
        "        batch_size = inp.size(0)\n",
        "        out = self.model(inp).detach().cpu().numpy()\n",
        "        I_vectors = np.eye(4)\n",
        "        x_zeros = np.zeros(9)\n",
        "        pred_matrices = []\n",
        "        target_matrices = []\n",
        "        for i in range(batch_size):\n",
        "               pred_params = denormalizer(out[i])\n",
        "               target_params = denormalizer(y[i].detach().cpu().numpy())\n",
        "               pred_matrix = np.stack([interf(I, x_zeros, pred_params) for I in I_vectors], axis=0)\n",
        "               target_matrix = np.stack([interf(I, x_zeros, target_params) for I in I_vectors], axis=0)\n",
        "               pred_matrices.append(pred_matrix)\n",
        "               target_matrices.append(target_matrix)\n",
        "        pred_matrices = np.array(pred_matrices).reshape(batch_size, -1, 4)\n",
        "        target_matrices = np.array(target_matrices).reshape(batch_size, -1, 4)\n",
        "        fidelity = batch_fidelity(pred_matrices, target_matrices)\n",
        "        self.log('test/fidelity', fidelity)\n",
        "        return loss, fidelity\n"
      ]
    },
    {
      "cell_type": "code",
      "source": [
        "from lightning.pytorch.callbacks import ModelCheckpoint\n",
        "\n",
        "checkpoint_callback = ModelCheckpoint(\n",
        "    # dirpath='best_ckp/'\n",
        "    save_last=True,\n",
        "    every_n_epochs=1,\n",
        "    save_top_k=1,\n",
        "    save_weights_only=True,\n",
        "    monitor=\"val/fidelity\",\n",
        "    filename=\"model\",\n",
        "    mode=\"max\",\n",
        ")\n",
        "\n",
        "L.seed_everything(42)\n",
        "\n",
        "model = TransformerOpticalCircuit_Upg()\n",
        "pl_model = LModel_inv(model)\n",
        "trainer = L.Trainer(\n",
        "    max_epochs=40,\n",
        "    callbacks=[checkpoint_callback],\n",
        "    num_sanity_val_steps=0,\n",
        "    log_every_n_steps=10,\n",
        "    logger=L.pytorch.loggers.TensorBoardLogger(save_dir=\"logs/model6/\"),\n",
        ")\n",
        "\n",
        "trainer.fit(\n",
        "    model=pl_model,\n",
        "    train_dataloaders=train_loader,\n",
        "    val_dataloaders=val_loader\n",
        ")"
      ],
      "metadata": {
        "id": "wWmI_VGSv4y8"
      },
      "execution_count": null,
      "outputs": []
    },
    {
      "cell_type": "code",
      "source": [
        "import os\n",
        "from tensorboard.backend.event_processing import event_accumulator\n",
        "import matplotlib.pyplot as plt\n",
        "log_dir = 'logs/model6/lightning_logs/version_0/'\n",
        "event_file = [\n",
        "    os.path.join(log_dir, file_name)\n",
        "    for file_name in os.listdir(log_dir)\n",
        "    if file_name.startswith(\"events.out.tfevents\")\n",
        "]\n",
        "event_file = event_file[0]\n",
        "ea = event_accumulator.EventAccumulator(event_file)\n",
        "ea.Reload()\n",
        "tags = ea.Tags()['scalars']\n",
        "val_r2_values = ea.Scalars('val/fidelity')\n",
        "epochs = ea.Scalars('epoch')\n",
        "eps = [x.value for x in epochs][::]\n",
        "eps = list(set(eps))\n",
        "eps.sort()\n",
        "values = [x.value for x in val_r2_values][::]\n",
        "plt.plot(eps[:-1], values, marker='o', linestyle='-')\n",
        "plt.xlabel('Эпохи')\n",
        "plt.ylabel('Validation Amplitude Fidelity')\n",
        "plt.grid(True)\n",
        "plt.savefig('graph.pdf')\n",
        "plt.show()"
      ],
      "metadata": {
        "colab": {
          "base_uri": "https://localhost:8080/",
          "height": 467
        },
        "id": "lKQpz33Pcffs",
        "outputId": "7c1c4fa8-63bc-4f35-c92f-8ab647f3b150"
      },
      "execution_count": null,
      "outputs": [
        {
          "output_type": "stream",
          "name": "stdout",
          "text": [
            "Доступные метрики: ['loss/train', 'epoch', 'loss/val', 'val/fidelity']\n"
          ]
        },
        {
          "output_type": "display_data",
          "data": {
            "text/plain": [
              "<Figure size 640x480 with 1 Axes>"
            ],
            "image/png": "[encoded data removed]"
          },
          "metadata": {}
        }
      ]
    },
    {
      "cell_type": "code",
      "source": [
        "log_dir = 'logs/model6/lightning_logs/version_0/'\n",
        "event_file = [\n",
        "    os.path.join(log_dir, file_name)\n",
        "    for file_name in os.listdir(log_dir)\n",
        "    if file_name.startswith(\"events.out.tfevents\")\n",
        "]\n",
        "event_file = event_file[0]\n",
        "ea = event_accumulator.EventAccumulator(event_file)\n",
        "ea.Reload()\n",
        "tags = ea.Tags()['scalars']\n",
        "val_r2_values = ea.Scalars('loss/val')\n",
        "epochs = ea.Scalars('epoch')\n",
        "eps = [x.value for x in epochs][::]\n",
        "eps = list(set(eps))\n",
        "eps.sort()\n",
        "values = [x.value for x in val_r2_values]\n",
        "plt.plot(eps[:-1], values, marker='o', linestyle='-')\n",
        "plt.xlabel('Эпохи')\n",
        "plt.ylabel('Validation MSE')\n",
        "plt.grid(True)\n",
        "plt.savefig('graph.pdf')\n",
        "plt.show()"
      ],
      "metadata": {
        "colab": {
          "base_uri": "https://localhost:8080/",
          "height": 467
        },
        "id": "dbaQQPHCrvEv",
        "outputId": "2f90e15c-703e-462c-d256-b9da1fcccd06"
      },
      "execution_count": null,
      "outputs": [
        {
          "output_type": "stream",
          "name": "stdout",
          "text": [
            "Доступные метрики: ['loss/train', 'epoch', 'loss/val', 'val/fidelity']\n"
          ]
        },
        {
          "output_type": "display_data",
          "data": {
            "text/plain": [
              "<Figure size 640x480 with 1 Axes>"
            ],
            "image/png": "[encoded data removed]"
          },
          "metadata": {}
        }
      ]
    }
  ],
  "metadata": {
    "colab": {
      "collapsed_sections": [
        "OV63EMFYLRUh"
      ],
      "provenance": [],
      "gpuType": "T4"
    },
    "kernelspec": {
      "display_name": "Python 3",
      "name": "python3"
    },
    "language_info": {
      "codemirror_mode": {
        "name": "ipython",
        "version": 3
      },
      "file_extension": ".py",
      "mimetype": "text/x-python",
      "name": "python",
      "nbconvert_exporter": "python",
      "pygments_lexer": "ipython3",
      "version": "3.10.12"
    },
    "accelerator": "GPU"
  },
  "nbformat": 4,
  "nbformat_minor": 0
}